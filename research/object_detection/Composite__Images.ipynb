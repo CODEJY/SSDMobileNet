{
 "cells": [
  {
   "cell_type": "code",
   "execution_count": 24,
   "metadata": {
    "scrolled": true
   },
   "outputs": [
    {
     "name": "stdout",
     "output_type": "stream",
     "text": [
      "BG_IMAGE_SIZE: (1024, 768)\n",
      "FG_IMAGE_SIZE: (334, 500)\n",
      "RESULT_IMAGE_SIZE: (534, 700)\n",
      "BG_IMAGE_SIZE: (500, 281)\n",
      "FG_IMAGE_SIZE: (334, 500)\n",
      "RESULT_IMAGE_SIZE: (534, 700)\n",
      "BG_IMAGE_SIZE: (1920, 994)\n",
      "FG_IMAGE_SIZE: (334, 500)\n",
      "RESULT_IMAGE_SIZE: (534, 700)\n",
      "BG_IMAGE_SIZE: (640, 480)\n",
      "FG_IMAGE_SIZE: (334, 500)\n",
      "RESULT_IMAGE_SIZE: (534, 700)\n",
      "BG_IMAGE_SIZE: (800, 600)\n",
      "FG_IMAGE_SIZE: (334, 500)\n",
      "RESULT_IMAGE_SIZE: (534, 700)\n",
      "BG_IMAGE_SIZE: (680, 510)\n",
      "FG_IMAGE_SIZE: (500, 375)\n",
      "RESULT_IMAGE_SIZE: (534, 700)\n",
      "BG_IMAGE_SIZE: (1080, 810)\n",
      "FG_IMAGE_SIZE: (334, 500)\n",
      "RESULT_IMAGE_SIZE: (534, 700)\n",
      "BG_IMAGE_SIZE: (800, 800)\n",
      "FG_IMAGE_SIZE: (500, 375)\n",
      "RESULT_IMAGE_SIZE: (534, 700)\n",
      "BG_IMAGE_SIZE: (500, 375)\n",
      "FG_IMAGE_SIZE: (500, 375)\n",
      "RESULT_IMAGE_SIZE: (534, 700)\n",
      "BG_IMAGE_SIZE: (534, 700)\n",
      "FG_IMAGE_SIZE: (334, 500)\n",
      "RESULT_IMAGE_SIZE: (534, 700)\n"
     ]
    }
   ],
   "source": [
    "from PIL import Image\n",
    "import os\n",
    "'''\n",
    "合成图片\n",
    "先将背景图片resize （534，700）\n",
    "然后将 （334，500）的前景图覆盖到背景图上，前景图的左上角坐标为（100，80）\n",
    "最后存到result_images文件夹下\n",
    "'''\n",
    "PATH_TO_BG_IMAGES_DIR = 'test_images/bd_images_1'\n",
    "PATH_TO_FG_IMAGES_DIR = 'test_images/oocl_images'\n",
    "BG_IMAGE_PATHS = [ os.path.join(PATH_TO_BG_IMAGES_DIR, 'bd_{}.jpg'.format(i)) for i in range(1, 12) ]\n",
    "FG_IMAGE_PATHS = [ os.path.join(PATH_TO_FG_IMAGES_DIR, '0708selction{}.jpg'.format(i)) for i in range(18, 29) ]\n",
    "for i in range(1,11):\n",
    "    bg_img = Image.open(BG_IMAGE_PATHS[i])\n",
    "    fg_img = Image.open(FG_IMAGE_PATHS[i])\n",
    "    print ('BG_IMAGE_SIZE: %s') % str(bg_img.size)\n",
    "    print ('FG_IMAGE_SIZE: %s') % str(fg_img.size)\n",
    "    bg_img_rs = bg_img.resize((534,700))\n",
    "    bg_img_rs.paste(fg_img,(100,80))\n",
    "    bg_img_rs.save('test_images/result_images/'+'{}.jpg'.format(i))\n",
    "    print ('RESULT_IMAGE_SIZE: %s') % str(bg_img_rs.size)"
   ]
  },
  {
   "cell_type": "code",
   "execution_count": 22,
   "metadata": {},
   "outputs": [],
   "source": [
    "from PIL import Image\n",
    "import os\n",
    "'''\n",
    "测试 save()\n",
    "'''\n",
    "PATH_TO_BG_IMAGES_DIR = 'test_images/bd_images_1'\n",
    "BG_IMAGE_PATHS = [ os.path.join(PATH_TO_BG_IMAGES_DIR, 'bd_{}.jpg'.format(i)) for i in range(11, 12) ]\n",
    "bg_img = Image.open(BG_IMAGE_PATHS[0])\n",
    "bg_img.save('test_images/result_images/'+'2.jpg')"
   ]
  },
  {
   "cell_type": "code",
   "execution_count": null,
   "metadata": {
    "collapsed": true
   },
   "outputs": [],
   "source": []
  }
 ],
 "metadata": {
  "kernelspec": {
   "display_name": "Python 2",
   "language": "python",
   "name": "python2"
  },
  "language_info": {
   "codemirror_mode": {
    "name": "ipython",
    "version": 2
   },
   "file_extension": ".py",
   "mimetype": "text/x-python",
   "name": "python",
   "nbconvert_exporter": "python",
   "pygments_lexer": "ipython2",
   "version": "2.7.12"
  }
 },
 "nbformat": 4,
 "nbformat_minor": 2
}
