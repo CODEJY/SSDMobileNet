{
 "cells": [
  {
   "cell_type": "code",
   "execution_count": 42,
   "metadata": {
    "scrolled": true
   },
   "outputs": [
    {
     "name": "stdout",
     "output_type": "stream",
     "text": [
      "BG_IMAGE_SIZE: (1024, 768)\n",
      "FG_IMAGE_SIZE: (334, 500)\n",
      "RESULT_IMAGE_SIZE: (534, 700)\n",
      "BG_IMAGE_SIZE: (500, 281)\n",
      "FG_IMAGE_SIZE: (334, 500)\n",
      "RESULT_IMAGE_SIZE: (534, 700)\n",
      "BG_IMAGE_SIZE: (1920, 994)\n",
      "FG_IMAGE_SIZE: (334, 500)\n",
      "RESULT_IMAGE_SIZE: (534, 700)\n",
      "BG_IMAGE_SIZE: (640, 480)\n",
      "FG_IMAGE_SIZE: (334, 500)\n",
      "RESULT_IMAGE_SIZE: (534, 700)\n",
      "BG_IMAGE_SIZE: (800, 600)\n",
      "FG_IMAGE_SIZE: (334, 500)\n",
      "RESULT_IMAGE_SIZE: (534, 700)\n",
      "BG_IMAGE_SIZE: (680, 510)\n",
      "FG_IMAGE_SIZE: (500, 375)\n",
      "RESULT_IMAGE_SIZE: (534, 700)\n",
      "BG_IMAGE_SIZE: (783, 613)\n",
      "FG_IMAGE_SIZE: (334, 500)\n",
      "RESULT_IMAGE_SIZE: (534, 700)\n",
      "BG_IMAGE_SIZE: (596, 786)\n",
      "FG_IMAGE_SIZE: (500, 375)\n",
      "RESULT_IMAGE_SIZE: (534, 700)\n",
      "BG_IMAGE_SIZE: (500, 375)\n",
      "FG_IMAGE_SIZE: (500, 375)\n",
      "RESULT_IMAGE_SIZE: (534, 700)\n"
     ]
    }
   ],
   "source": [
    "from PIL import Image\n",
    "import os\n",
    "'''\n",
    "合成图片\n",
    "先将背景图片resize （534，700）\n",
    "然后将 （334，500）的前景图覆盖到背景图上，前景图的左上角坐标为（100，80）\n",
    "最后存到result_images文件夹下\n",
    "'''\n",
    "PATH_TO_BG_IMAGES_DIR = 'test_images/bd_images_1'\n",
    "PATH_TO_FG_IMAGES_DIR = 'test_images/oocl_images'\n",
    "BG_IMAGE_PATHS = [ os.path.join(PATH_TO_BG_IMAGES_DIR, 'bd_{}.jpg'.format(i)) for i in range(1, 11) ]\n",
    "FG_IMAGE_PATHS = [ os.path.join(PATH_TO_FG_IMAGES_DIR, '0708selction{}.jpg'.format(i)) for i in range(18, 28) ]\n",
    "for i in range(1,10):\n",
    "    bg_img = Image.open(BG_IMAGE_PATHS[i])\n",
    "    fg_img = Image.open(FG_IMAGE_PATHS[i])\n",
    "    print ('BG_IMAGE_SIZE: %s') % str(bg_img.size)\n",
    "    print ('FG_IMAGE_SIZE: %s') % str(fg_img.size)\n",
    "    size = bg_img.size\n",
    "    bg_img_rs = bg_img.resize((534,700))\n",
    "    fg_img_rs = fg_img.resize((334,500))\n",
    "    bg_img_rs.paste(fg_img_rs,(100,100))\n",
    "    bg_img_rs.save('test_images/result_images/'+'{}.jpg'.format(i))\n",
    "    print ('RESULT_IMAGE_SIZE: %s') % str(bg_img_rs.size)"
   ]
  },
  {
   "cell_type": "code",
   "execution_count": 54,
   "metadata": {},
   "outputs": [
    {
     "name": "stdout",
     "output_type": "stream",
     "text": [
      "BG_IMAGE_SIZE: (1024, 768)\n",
      "FG_IMAGE_SIZE: (334, 500)\n",
      "RESULT_IMAGE_SIZE: (534, 700)\n",
      "BG_IMAGE_SIZE: (500, 281)\n",
      "FG_IMAGE_SIZE: (334, 500)\n",
      "RESULT_IMAGE_SIZE: (534, 700)\n",
      "BG_IMAGE_SIZE: (1920, 994)\n",
      "FG_IMAGE_SIZE: (334, 500)\n",
      "RESULT_IMAGE_SIZE: (534, 700)\n",
      "BG_IMAGE_SIZE: (640, 480)\n",
      "FG_IMAGE_SIZE: (334, 500)\n",
      "RESULT_IMAGE_SIZE: (534, 700)\n",
      "BG_IMAGE_SIZE: (800, 600)\n",
      "FG_IMAGE_SIZE: (334, 500)\n",
      "RESULT_IMAGE_SIZE: (534, 700)\n",
      "BG_IMAGE_SIZE: (680, 510)\n",
      "FG_IMAGE_SIZE: (500, 375)\n",
      "RESULT_IMAGE_SIZE: (534, 700)\n",
      "BG_IMAGE_SIZE: (783, 613)\n",
      "FG_IMAGE_SIZE: (334, 500)\n",
      "RESULT_IMAGE_SIZE: (534, 700)\n",
      "BG_IMAGE_SIZE: (596, 786)\n",
      "FG_IMAGE_SIZE: (500, 375)\n",
      "RESULT_IMAGE_SIZE: (534, 700)\n",
      "BG_IMAGE_SIZE: (500, 375)\n",
      "FG_IMAGE_SIZE: (500, 375)\n",
      "RESULT_IMAGE_SIZE: (534, 700)\n"
     ]
    }
   ],
   "source": [
    "from PIL import Image\n",
    "import os\n",
    "import random\n",
    "'''\n",
    "合成图片\n",
    "先将背景图片resize （534，700）\n",
    "然后将 （334，500）的前景图覆盖到背景图上，前景图的左上角坐标为（100，80）\n",
    "最后存到result_images文件夹下\n",
    "'''\n",
    "PATH_TO_BG_IMAGES_DIR = 'test_images/bd_images_1'\n",
    "PATH_TO_FG_IMAGES_DIR = 'test_images/oocl_images'\n",
    "BG_IMAGE_PATHS = [ os.path.join(PATH_TO_BG_IMAGES_DIR, 'bd_{}.jpg'.format(i)) for i in range(1, 11) ]\n",
    "FG_IMAGE_PATHS = [ os.path.join(PATH_TO_FG_IMAGES_DIR, '0708selction{}.jpg'.format(i)) for i in range(18, 28) ]\n",
    "for i in range(1,10):\n",
    "    bg_img = Image.open(BG_IMAGE_PATHS[i])\n",
    "    fg_img = Image.open(FG_IMAGE_PATHS[i])\n",
    "    print ('BG_IMAGE_SIZE: %s') % str(bg_img.size)\n",
    "    print ('FG_IMAGE_SIZE: %s') % str(fg_img.size)\n",
    "    bg_img_rs = bg_img.resize((534,700))\n",
    "    size = bg_img_rs.size\n",
    "    fg_img_rs = fg_img.resize((434,600))\n",
    "    bg_img_rs.paste(fg_img_rs,(int(size[0]*random.randint(0,19)/100),int(size[1]*random.randint(0,15)/100)))\n",
    "    bg_img_rs.save('test_images/result_images/'+'{}.jpg'.format(i))\n",
    "    print ('RESULT_IMAGE_SIZE: %s') % str(bg_img_rs.size)"
   ]
  },
  {
   "cell_type": "code",
   "execution_count": 50,
   "metadata": {},
   "outputs": [
    {
     "ename": "TypeError",
     "evalue": "random() takes no arguments (1 given)",
     "output_type": "error",
     "traceback": [
      "\u001b[0;31m\u001b[0m",
      "\u001b[0;31mTypeError\u001b[0mTraceback (most recent call last)",
      "\u001b[0;32m<ipython-input-50-731ddb5d046e>\u001b[0m in \u001b[0;36m<module>\u001b[0;34m()\u001b[0m\n\u001b[1;32m      1\u001b[0m \u001b[0;32mimport\u001b[0m \u001b[0mrandom\u001b[0m\u001b[0;34m\u001b[0m\u001b[0m\n\u001b[1;32m      2\u001b[0m \u001b[0;32mfor\u001b[0m \u001b[0mi\u001b[0m \u001b[0;32min\u001b[0m \u001b[0mrange\u001b[0m\u001b[0;34m(\u001b[0m\u001b[0;36m0\u001b[0m\u001b[0;34m,\u001b[0m\u001b[0;36m10\u001b[0m\u001b[0;34m)\u001b[0m\u001b[0;34m:\u001b[0m\u001b[0;34m\u001b[0m\u001b[0m\n\u001b[0;32m----> 3\u001b[0;31m     \u001b[0;32mprint\u001b[0m \u001b[0mrandom\u001b[0m\u001b[0;34m.\u001b[0m\u001b[0mrandom\u001b[0m\u001b[0;34m(\u001b[0m\u001b[0;36m0.3\u001b[0m\u001b[0;34m)\u001b[0m\u001b[0;34m\u001b[0m\u001b[0m\n\u001b[0m",
      "\u001b[0;31mTypeError\u001b[0m: random() takes no arguments (1 given)"
     ]
    }
   ],
   "source": [
    "import random\n",
    "for i in range(0,10):\n",
    "    print random.random(0.3)"
   ]
  },
  {
   "cell_type": "code",
   "execution_count": null,
   "metadata": {
    "collapsed": true
   },
   "outputs": [],
   "source": []
  }
 ],
 "metadata": {
  "kernelspec": {
   "display_name": "Python 2",
   "language": "python",
   "name": "python2"
  },
  "language_info": {
   "codemirror_mode": {
    "name": "ipython",
    "version": 2
   },
   "file_extension": ".py",
   "mimetype": "text/x-python",
   "name": "python",
   "nbconvert_exporter": "python",
   "pygments_lexer": "ipython2",
   "version": "2.7.12"
  }
 },
 "nbformat": 4,
 "nbformat_minor": 2
}
