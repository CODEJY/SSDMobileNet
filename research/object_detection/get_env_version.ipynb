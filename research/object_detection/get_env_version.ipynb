{
 "cells": [
  {
   "cell_type": "code",
   "execution_count": 1,
   "metadata": {},
   "outputs": [
    {
     "name": "stdout",
     "output_type": "stream",
     "text": [
      "tensorflow: 1.3.0\n",
      "numpy: 1.13.1\n",
      "matplotlib: 2.0.2\n",
      "Pillow: 4.2.1\n"
     ]
    }
   ],
   "source": [
    "import tensorflow as tf\n",
    "import numpy as np\n",
    "import matplotlib\n",
    "import PIL as pil\n",
    "'''\n",
    "获取当前环境的版本\n",
    "Python版本，在terminal执行：python --version\n",
    "Protobuf版本，在terminal执行：protoc --version\n",
    "'''\n",
    "print 'tensorflow: %s' % str(tf.__version__)\n",
    "print 'numpy: %s' % str(np.__version__)\n",
    "print 'matplotlib: %s' % str(matplotlib.__version__)\n",
    "print 'Pillow: %s' % str(pil.__version__)"
   ]
  },
  {
   "cell_type": "code",
   "execution_count": null,
   "metadata": {
    "collapsed": true
   },
   "outputs": [],
   "source": []
  }
 ],
 "metadata": {
  "kernelspec": {
   "display_name": "Python 2",
   "language": "python",
   "name": "python2"
  },
  "language_info": {
   "codemirror_mode": {
    "name": "ipython",
    "version": 2
   },
   "file_extension": ".py",
   "mimetype": "text/x-python",
   "name": "python",
   "nbconvert_exporter": "python",
   "pygments_lexer": "ipython2",
   "version": "2.7.12"
  }
 },
 "nbformat": 4,
 "nbformat_minor": 2
}
